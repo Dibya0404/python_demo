{
 "cells": [
  {
   "cell_type": "code",
   "execution_count": 1,
   "id": "66df107a-3e66-4c7e-8c98-fcdb19918f1d",
   "metadata": {},
   "outputs": [
    {
     "name": "stdout",
     "output_type": "stream",
     "text": [
      "hello world\n"
     ]
    }
   ],
   "source": [
    "print(\"hello world\")"
   ]
  },
  {
   "cell_type": "code",
   "execution_count": 2,
   "id": "354d0b04-2398-45ee-aa98-95c06a9f2271",
   "metadata": {},
   "outputs": [],
   "source": [
    "x=5"
   ]
  },
  {
   "cell_type": "code",
   "execution_count": 3,
   "id": "c5a828a9-40af-4150-b992-58001fe7cce5",
   "metadata": {},
   "outputs": [
    {
     "data": {
      "text/plain": [
       "5"
      ]
     },
     "execution_count": 3,
     "metadata": {},
     "output_type": "execute_result"
    }
   ],
   "source": [
    "x"
   ]
  },
  {
   "cell_type": "code",
   "execution_count": 8,
   "id": "1e9ba745-3592-4422-836a-315c9e3acac4",
   "metadata": {},
   "outputs": [],
   "source": [
    "y={1,2,3}"
   ]
  },
  {
   "cell_type": "code",
   "execution_count": 9,
   "id": "050fde14-bf33-418d-8022-12ec9d2741ed",
   "metadata": {},
   "outputs": [
    {
     "name": "stdout",
     "output_type": "stream",
     "text": [
      "<class 'set'>\n"
     ]
    }
   ],
   "source": [
    "print(type(y))"
   ]
  },
  {
   "cell_type": "code",
   "execution_count": 10,
   "id": "5be04760-038a-4775-a067-eb55ecaf22bf",
   "metadata": {},
   "outputs": [],
   "source": [
    "#built in function"
   ]
  },
  {
   "cell_type": "code",
   "execution_count": 11,
   "id": "9a80d899-422f-4b74-a9b8-f7f1827902ca",
   "metadata": {},
   "outputs": [],
   "source": [
    "x=abs(-7.25)\n",
    "#absolute value of a number"
   ]
  },
  {
   "cell_type": "code",
   "execution_count": 12,
   "id": "2b62d664-38b0-4da0-8a7b-a703c0cb1c35",
   "metadata": {},
   "outputs": [
    {
     "data": {
      "text/plain": [
       "7.25"
      ]
     },
     "execution_count": 12,
     "metadata": {},
     "output_type": "execute_result"
    }
   ],
   "source": [
    "x"
   ]
  },
  {
   "cell_type": "code",
   "execution_count": 16,
   "id": "94ecb4b3-491f-40d8-b6e2-c00386f43af9",
   "metadata": {},
   "outputs": [],
   "source": [
    "#any function return true if the item is true\n",
    "list=[False,True,False]\n"
   ]
  },
  {
   "cell_type": "code",
   "execution_count": 18,
   "id": "d3673a57-09dd-4869-bc32-6b5e9f977daf",
   "metadata": {},
   "outputs": [],
   "source": [
    "x=any(list)"
   ]
  },
  {
   "cell_type": "code",
   "execution_count": 19,
   "id": "4569646e-5ccf-41dc-9b3e-332c0efbc2b7",
   "metadata": {},
   "outputs": [
    {
     "data": {
      "text/plain": [
       "True"
      ]
     },
     "execution_count": 19,
     "metadata": {},
     "output_type": "execute_result"
    }
   ],
   "source": [
    "x"
   ]
  },
  {
   "cell_type": "code",
   "execution_count": 20,
   "id": "c7b8ad05-3f11-4cfd-83de-36275f9bd4c4",
   "metadata": {},
   "outputs": [],
   "source": [
    "#iterable= any iterable object (list,tuple,dictionary)"
   ]
  },
  {
   "cell_type": "code",
   "execution_count": 21,
   "id": "2940373e-2c9d-4316-8ccf-e8a9202c985f",
   "metadata": {},
   "outputs": [],
   "source": [
    "myset={0,1,0}"
   ]
  },
  {
   "cell_type": "code",
   "execution_count": 22,
   "id": "205f47c7-d36f-4021-a1cb-005a8bd5e2e7",
   "metadata": {},
   "outputs": [],
   "source": [
    "x=any(myset)"
   ]
  },
  {
   "cell_type": "code",
   "execution_count": 24,
   "id": "0631a1e5-9900-4289-86b3-ade3e4b35f87",
   "metadata": {},
   "outputs": [
    {
     "data": {
      "text/plain": [
       "True"
      ]
     },
     "execution_count": 24,
     "metadata": {},
     "output_type": "execute_result"
    }
   ],
   "source": [
    "x"
   ]
  },
  {
   "cell_type": "code",
   "execution_count": 25,
   "id": "3facab4a-6beb-48cf-b302-f7e10ddf0f45",
   "metadata": {},
   "outputs": [],
   "source": [
    "#Python has no command for declaring a variable.\n",
    "\n",
    "#A variable is created the moment you first assign a value to it."
   ]
  },
  {
   "cell_type": "code",
   "execution_count": 26,
   "id": "9c17c4de-4b48-4af8-9c2c-7d8555f3b1a0",
   "metadata": {},
   "outputs": [
    {
     "name": "stdout",
     "output_type": "stream",
     "text": [
      "5\n",
      "John\n"
     ]
    }
   ],
   "source": [
    "x = 5\n",
    "y = \"John\"\n",
    "print(x)\n",
    "print(y)"
   ]
  },
  {
   "cell_type": "code",
   "execution_count": 27,
   "id": "549f70f2-9f19-44f5-a88a-89cf430932a5",
   "metadata": {},
   "outputs": [],
   "source": [
    "#Variables do not need to be declared with any particular type, and can even change type after they have been set."
   ]
  },
  {
   "cell_type": "code",
   "execution_count": 28,
   "id": "a25543b2-5637-4c11-b134-16294beccdb6",
   "metadata": {},
   "outputs": [
    {
     "name": "stdout",
     "output_type": "stream",
     "text": [
      "Sally\n"
     ]
    }
   ],
   "source": [
    "x = 4       # x is of type int\n",
    "x = \"Sally\" # x is now of type str\n",
    "print(x)"
   ]
  },
  {
   "cell_type": "code",
   "execution_count": 29,
   "id": "e0f2ef99-3f87-4616-91db-df77b72ea7ee",
   "metadata": {},
   "outputs": [],
   "source": [
    "#If you want to specify the data type of a variable, this can be done with casting."
   ]
  },
  {
   "cell_type": "code",
   "execution_count": 30,
   "id": "641b9730-3d32-48aa-bfeb-3995fe8eeb7e",
   "metadata": {},
   "outputs": [],
   "source": [
    "x = str(3)    # x will be '3'\n",
    "y = int(3)    # y will be 3\n",
    "z = float(3)  # z will be 3.0"
   ]
  },
  {
   "cell_type": "code",
   "execution_count": 31,
   "id": "17e25411-5b8b-4135-a4aa-95723ee85449",
   "metadata": {},
   "outputs": [
    {
     "data": {
      "text/plain": [
       "'3'"
      ]
     },
     "execution_count": 31,
     "metadata": {},
     "output_type": "execute_result"
    }
   ],
   "source": [
    "x"
   ]
  },
  {
   "cell_type": "code",
   "execution_count": 32,
   "id": "08874f22-46ce-40c3-8279-ed9bd72c7916",
   "metadata": {},
   "outputs": [
    {
     "data": {
      "text/plain": [
       "3"
      ]
     },
     "execution_count": 32,
     "metadata": {},
     "output_type": "execute_result"
    }
   ],
   "source": [
    "y"
   ]
  },
  {
   "cell_type": "code",
   "execution_count": 33,
   "id": "7e84fec8-9b23-4787-ba5d-a06a60fbcb15",
   "metadata": {},
   "outputs": [
    {
     "data": {
      "text/plain": [
       "3.0"
      ]
     },
     "execution_count": 33,
     "metadata": {},
     "output_type": "execute_result"
    }
   ],
   "source": [
    "z"
   ]
  },
  {
   "cell_type": "code",
   "execution_count": 34,
   "id": "fc4dcc8f-8adf-40eb-aad9-0b52c9085fb5",
   "metadata": {},
   "outputs": [],
   "source": [
    "#You can get the data type of a variable with the type() function."
   ]
  },
  {
   "cell_type": "code",
   "execution_count": 35,
   "id": "06e5e623-23ab-4923-a8ae-8b4f3194c3c3",
   "metadata": {},
   "outputs": [
    {
     "name": "stdout",
     "output_type": "stream",
     "text": [
      "<class 'int'>\n",
      "<class 'str'>\n"
     ]
    }
   ],
   "source": [
    "x = 5\n",
    "y = \"John\"\n",
    "print(type(x))\n",
    "print(type(y))"
   ]
  },
  {
   "cell_type": "code",
   "execution_count": 36,
   "id": "a3f088be-c473-4caf-8f48-4cee57bdb98f",
   "metadata": {},
   "outputs": [],
   "source": [
    "#String variables can be declared either by using single or double quotes:"
   ]
  },
  {
   "cell_type": "code",
   "execution_count": 37,
   "id": "0bda67c0-3b1d-436d-ae87-a211dda57301",
   "metadata": {},
   "outputs": [],
   "source": [
    "x = \"John\"\n",
    "# is the same as\n",
    "x = 'John'"
   ]
  },
  {
   "cell_type": "code",
   "execution_count": 38,
   "id": "15650785-0cd4-4e72-9fa7-5485c801d5c7",
   "metadata": {},
   "outputs": [
    {
     "data": {
      "text/plain": [
       "'John'"
      ]
     },
     "execution_count": 38,
     "metadata": {},
     "output_type": "execute_result"
    }
   ],
   "source": [
    "x"
   ]
  },
  {
   "cell_type": "code",
   "execution_count": 39,
   "id": "24d04230-77ef-4270-b159-e15c5e6df161",
   "metadata": {},
   "outputs": [
    {
     "data": {
      "text/plain": [
       "'John'"
      ]
     },
     "execution_count": 39,
     "metadata": {},
     "output_type": "execute_result"
    }
   ],
   "source": [
    "x"
   ]
  },
  {
   "cell_type": "code",
   "execution_count": 40,
   "id": "9bee4656-05f8-4dd4-9f69-ee05d8e7efd9",
   "metadata": {},
   "outputs": [],
   "source": [
    "#Variable names are case-sensitive."
   ]
  },
  {
   "cell_type": "code",
   "execution_count": 41,
   "id": "7870c8ba-f492-4375-a61d-4a1db459ea16",
   "metadata": {},
   "outputs": [],
   "source": [
    "a = 4\n",
    "A = \"Sally\"\n",
    "#A will not overwrite a"
   ]
  },
  {
   "cell_type": "code",
   "execution_count": 42,
   "id": "e2ec8d3b-a696-4142-b58b-6045b2cfb017",
   "metadata": {},
   "outputs": [
    {
     "data": {
      "text/plain": [
       "4"
      ]
     },
     "execution_count": 42,
     "metadata": {},
     "output_type": "execute_result"
    }
   ],
   "source": [
    "a"
   ]
  },
  {
   "cell_type": "code",
   "execution_count": 43,
   "id": "e3d1f373-5f6a-4c30-8e0c-a43980bbd0ac",
   "metadata": {},
   "outputs": [
    {
     "data": {
      "text/plain": [
       "'Sally'"
      ]
     },
     "execution_count": 43,
     "metadata": {},
     "output_type": "execute_result"
    }
   ],
   "source": [
    "A"
   ]
  },
  {
   "cell_type": "code",
   "execution_count": 44,
   "id": "8ec77515-c13b-447f-8a00-674555fb98ea",
   "metadata": {},
   "outputs": [],
   "source": [
    "#A variable can have a short name (like x and y) or a more descriptive name (age, carname, total_volume). Rules for Python variables:\n",
    "#A variable name must start with a letter or the underscore character\n",
    "#A variable name cannot start with a number\n",
    "#A variable name can only contain alpha-numeric characters and underscores (A-z, 0-9, and _ )\n",
    "#Variable names are case-sensitive (age, Age and AGE are three different variables)\n",
    "#A variable name cannot be any of the Python keywords."
   ]
  },
  {
   "cell_type": "code",
   "execution_count": 45,
   "id": "27d45534-e64c-4d25-a3bb-634ac89ba7c0",
   "metadata": {},
   "outputs": [],
   "source": [
    "myvar = \"John\"\n",
    "my_var = \"John\"\n",
    "_my_var = \"John\"\n",
    " = \"John\"\n",
    "MYVAR = \"John\"\n",
    "myvar2 = \"John\""
   ]
  },
  {
   "cell_type": "code",
   "execution_count": 46,
   "id": "7a180b80-3d49-42a8-898c-a95ff4f87796",
   "metadata": {},
   "outputs": [
    {
     "data": {
      "text/plain": [
       "'John'"
      ]
     },
     "execution_count": 46,
     "metadata": {},
     "output_type": "execute_result"
    }
   ],
   "source": [
    "myvar"
   ]
  },
  {
   "cell_type": "code",
   "execution_count": 47,
   "id": "d1c3d5fd-e6ac-4ec5-850c-21e07a49d531",
   "metadata": {},
   "outputs": [
    {
     "data": {
      "text/plain": [
       "'John'"
      ]
     },
     "execution_count": 47,
     "metadata": {},
     "output_type": "execute_result"
    }
   ],
   "source": [
    "my_var"
   ]
  },
  {
   "cell_type": "code",
   "execution_count": 48,
   "id": "721a68ca-301c-4e6a-a695-22a5e62b2d99",
   "metadata": {},
   "outputs": [
    {
     "data": {
      "text/plain": [
       "'John'"
      ]
     },
     "execution_count": 48,
     "metadata": {},
     "output_type": "execute_result"
    }
   ],
   "source": [
    "_my_var\n"
   ]
  },
  {
   "cell_type": "code",
   "execution_count": 49,
   "id": "7447f0c1-e2c3-4d34-ad7b-fb35fc0e31af",
   "metadata": {},
   "outputs": [
    {
     "data": {
      "text/plain": [
       "'John'"
      ]
     },
     "execution_count": 49,
     "metadata": {},
     "output_type": "execute_result"
    }
   ],
   "source": [
    "myVar"
   ]
  },
  {
   "cell_type": "code",
   "execution_count": 50,
   "id": "34c34582-3e1a-4c21-a83c-16f10e389878",
   "metadata": {},
   "outputs": [
    {
     "data": {
      "text/plain": [
       "'John'"
      ]
     },
     "execution_count": 50,
     "metadata": {},
     "output_type": "execute_result"
    }
   ],
   "source": [
    "myvar2"
   ]
  },
  {
   "cell_type": "code",
   "execution_count": 51,
   "id": "2e13600f-e538-4722-88af-53a408e1f09e",
   "metadata": {},
   "outputs": [
    {
     "data": {
      "text/plain": [
       "'John'"
      ]
     },
     "execution_count": 51,
     "metadata": {},
     "output_type": "execute_result"
    }
   ],
   "source": [
    "MYVAR"
   ]
  },
  {
   "cell_type": "code",
   "execution_count": 52,
   "id": "2d77a79e-49fb-4d7e-9285-c4aa5909b3a4",
   "metadata": {},
   "outputs": [],
   "source": [
    "#Illegal variable names:"
   ]
  },
  {
   "cell_type": "code",
   "execution_count": 53,
   "id": "86ba45b5-f481-4b15-a46e-2c905461330f",
   "metadata": {},
   "outputs": [
    {
     "ename": "SyntaxError",
     "evalue": "invalid decimal literal (2185399839.py, line 1)",
     "output_type": "error",
     "traceback": [
      "\u001b[1;36m  Cell \u001b[1;32mIn[53], line 1\u001b[1;36m\u001b[0m\n\u001b[1;33m    2myvar = \"John\"\u001b[0m\n\u001b[1;37m    ^\u001b[0m\n\u001b[1;31mSyntaxError\u001b[0m\u001b[1;31m:\u001b[0m invalid decimal literal\n"
     ]
    }
   ],
   "source": [
    "2myvar = \"John\"\n",
    "my-var = \"John\"\n",
    "my var = \"John\""
   ]
  },
  {
   "cell_type": "code",
   "execution_count": 54,
   "id": "a0ecdcbd-e913-450e-a713-9aa1842c2afb",
   "metadata": {},
   "outputs": [],
   "source": [
    "#Camel Case\n",
    "#Each word, except the first, starts with a capital letter"
   ]
  },
  {
   "cell_type": "code",
   "execution_count": 55,
   "id": "abac2ceb-a482-4a63-aca1-579a6cc994d3",
   "metadata": {},
   "outputs": [],
   "source": [
    "myVariableName = \"John\""
   ]
  },
  {
   "cell_type": "code",
   "execution_count": 56,
   "id": "e879113f-e344-4e43-aa22-7f28bc604fd1",
   "metadata": {},
   "outputs": [
    {
     "data": {
      "text/plain": [
       "'John'"
      ]
     },
     "execution_count": 56,
     "metadata": {},
     "output_type": "execute_result"
    }
   ],
   "source": [
    "myVariableName"
   ]
  },
  {
   "cell_type": "code",
   "execution_count": 57,
   "id": "074605ab-1524-4a93-8112-3a9c768c0aa7",
   "metadata": {},
   "outputs": [],
   "source": [
    "#Pascal Case\n",
    "#Each word starts with a capital letter:"
   ]
  },
  {
   "cell_type": "code",
   "execution_count": 58,
   "id": "6f429fa5-f5be-43c5-ae16-b1a2ea9430d1",
   "metadata": {},
   "outputs": [],
   "source": [
    "MyVariableName = \"John\""
   ]
  },
  {
   "cell_type": "code",
   "execution_count": 59,
   "id": "78779d36-c219-4421-b573-7f0f064b3306",
   "metadata": {},
   "outputs": [
    {
     "data": {
      "text/plain": [
       "'John'"
      ]
     },
     "execution_count": 59,
     "metadata": {},
     "output_type": "execute_result"
    }
   ],
   "source": [
    "MyVariableName"
   ]
  },
  {
   "cell_type": "code",
   "execution_count": 60,
   "id": "0d71549d-2a85-489c-b405-25b5b3268def",
   "metadata": {},
   "outputs": [],
   "source": [
    "#Snake Case\n",
    "#Each word is separated by an underscore character:"
   ]
  },
  {
   "cell_type": "code",
   "execution_count": 61,
   "id": "b5b2b5fa-615a-499f-a05d-17820080c093",
   "metadata": {},
   "outputs": [],
   "source": [
    "my_variable_name = \"John\""
   ]
  },
  {
   "cell_type": "code",
   "execution_count": 62,
   "id": "883e320f-1c37-46ff-a7a7-1c90067bf472",
   "metadata": {},
   "outputs": [
    {
     "data": {
      "text/plain": [
       "'John'"
      ]
     },
     "execution_count": 62,
     "metadata": {},
     "output_type": "execute_result"
    }
   ],
   "source": [
    "my_variable_name"
   ]
  },
  {
   "cell_type": "code",
   "execution_count": 63,
   "id": "278bfaee-bce0-4d8b-a1b0-f210db91da00",
   "metadata": {},
   "outputs": [],
   "source": [
    "#Many Values to Multiple Variables\n",
    "#Python allows you to assign values to multiple variables in one line"
   ]
  },
  {
   "cell_type": "code",
   "execution_count": 64,
   "id": "4be2463b-83e3-4cf3-87e8-ededdcfaf17b",
   "metadata": {},
   "outputs": [
    {
     "name": "stdout",
     "output_type": "stream",
     "text": [
      "Orange\n",
      "Banana\n",
      "Cherry\n"
     ]
    }
   ],
   "source": [
    "x, y, z = \"Orange\", \"Banana\", \"Cherry\"\n",
    "print(x)\n",
    "print(y)\n",
    "print(z)"
   ]
  },
  {
   "cell_type": "code",
   "execution_count": 65,
   "id": "0ea85990-f07c-4941-9dd4-2349dfba061c",
   "metadata": {},
   "outputs": [],
   "source": [
    "#One Value to Multiple Variables\n",
    "#And you can assign the same value to multiple variables in one line:"
   ]
  },
  {
   "cell_type": "code",
   "execution_count": 66,
   "id": "827e0711-2d67-41be-9ff9-9cbd84ef3b4d",
   "metadata": {},
   "outputs": [
    {
     "name": "stdout",
     "output_type": "stream",
     "text": [
      "Orange\n",
      "Orange\n",
      "Orange\n"
     ]
    }
   ],
   "source": [
    "x = y = z = \"Orange\"\n",
    "print(x)\n",
    "print(y)\n",
    "print(z)"
   ]
  },
  {
   "cell_type": "code",
   "execution_count": 67,
   "id": "be1c7de0-0753-428a-83d3-047866d17a21",
   "metadata": {},
   "outputs": [],
   "source": [
    "#Unpack a Collection\n",
    "#If you have a collection of values in a list, tuple etc. Python allows you to extract the values into variables. This is called unpacking."
   ]
  },
  {
   "cell_type": "code",
   "execution_count": 68,
   "id": "8e4feac4-a8a7-42c5-87ae-4a4faacd3e52",
   "metadata": {},
   "outputs": [
    {
     "name": "stdout",
     "output_type": "stream",
     "text": [
      "apple\n",
      "banana\n",
      "cherry\n"
     ]
    }
   ],
   "source": [
    "fruits = [\"apple\", \"banana\", \"cherry\"]\n",
    "x, y, z = fruits\n",
    "print(x)\n",
    "print(y)\n",
    "print(z)"
   ]
  },
  {
   "cell_type": "code",
   "execution_count": 69,
   "id": "55f2d186-6cf0-405f-ba68-c5a8cb4a2773",
   "metadata": {},
   "outputs": [],
   "source": [
    "#The Python print() function is often used to output variables."
   ]
  },
  {
   "cell_type": "code",
   "execution_count": 70,
   "id": "eb8ea364-5407-4872-a69b-e0c99609ab9d",
   "metadata": {},
   "outputs": [
    {
     "name": "stdout",
     "output_type": "stream",
     "text": [
      "Python is awesome\n"
     ]
    }
   ],
   "source": [
    "x = \"Python is awesome\"\n",
    "print(x)"
   ]
  },
  {
   "cell_type": "code",
   "execution_count": 71,
   "id": "eb3d1538-654e-443d-a3be-c4c6a892275c",
   "metadata": {},
   "outputs": [],
   "source": [
    "#In the print() function, you output multiple variables, separated by a comma:"
   ]
  },
  {
   "cell_type": "code",
   "execution_count": 72,
   "id": "38f64754-9f9d-43d2-9dd8-edea1b2ae009",
   "metadata": {},
   "outputs": [
    {
     "name": "stdout",
     "output_type": "stream",
     "text": [
      "Python is awesome\n"
     ]
    }
   ],
   "source": [
    "x = \"Python\"\n",
    "y = \"is\"\n",
    "z = \"awesome\"\n",
    "print(x, y, z)"
   ]
  },
  {
   "cell_type": "code",
   "execution_count": 74,
   "id": "11504abc-ce5b-4831-9ceb-54997bd20926",
   "metadata": {},
   "outputs": [
    {
     "name": "stdout",
     "output_type": "stream",
     "text": [
      "ram 21 bbsr\n"
     ]
    }
   ],
   "source": [
    "x= \"ram\"\n",
    "y= \"21\"\n",
    "z= \"bbsr\"\n",
    "print(x,y,z)"
   ]
  },
  {
   "cell_type": "code",
   "execution_count": 75,
   "id": "88c8486f-5669-473e-b71d-ef2a4e10e16f",
   "metadata": {},
   "outputs": [],
   "source": [
    "#You can also use the + operator to output multiple variables:"
   ]
  },
  {
   "cell_type": "code",
   "execution_count": 76,
   "id": "5ae5cede-7899-4a5e-aee0-eece05fa613a",
   "metadata": {},
   "outputs": [
    {
     "name": "stdout",
     "output_type": "stream",
     "text": [
      "Python is awesome\n"
     ]
    }
   ],
   "source": [
    "x = \"Python \"\n",
    "y = \"is \"\n",
    "z = \"awesome\"\n",
    "print(x + y + z)"
   ]
  },
  {
   "cell_type": "code",
   "execution_count": 77,
   "id": "12487ecd-ba32-436b-ad4f-d5d8621c1cb6",
   "metadata": {},
   "outputs": [],
   "source": [
    "#For numbers, the + character works as a mathematical operator:"
   ]
  },
  {
   "cell_type": "code",
   "execution_count": 78,
   "id": "7524e07d-c72d-4991-8060-ee394ef27c84",
   "metadata": {},
   "outputs": [
    {
     "name": "stdout",
     "output_type": "stream",
     "text": [
      "15\n"
     ]
    }
   ],
   "source": [
    "x = 5\n",
    "y = 10\n",
    "print(x + y)\n"
   ]
  },
  {
   "cell_type": "code",
   "execution_count": 79,
   "id": "612bce3f-32c7-4534-a7c0-2a36d36af5d4",
   "metadata": {},
   "outputs": [],
   "source": [
    "#The best way to output multiple variables in the print() function is to separate them with commas, which even support different data types:"
   ]
  },
  {
   "cell_type": "code",
   "execution_count": 80,
   "id": "9d45d3e9-0a55-4ff6-a537-5d9a2cc7bc03",
   "metadata": {},
   "outputs": [
    {
     "name": "stdout",
     "output_type": "stream",
     "text": [
      "5 John\n"
     ]
    }
   ],
   "source": [
    "x = 5\n",
    "y = \"John\"\n",
    "print(x, y)"
   ]
  },
  {
   "cell_type": "code",
   "execution_count": 81,
   "id": "6c8d4172-9d7b-4e93-966b-be8c454ad552",
   "metadata": {},
   "outputs": [],
   "source": [
    "#Global Variables\n",
    "#Variables that are created outside of a function (as in all of the examples in the previous pages) are known as global variables.\n",
    "\n",
    "#Global variables can be used by everyone, both inside of functions and outside"
   ]
  },
  {
   "cell_type": "code",
   "execution_count": 82,
   "id": "9fec0a93-aced-4e6d-887e-9cfaf6755d4d",
   "metadata": {},
   "outputs": [
    {
     "name": "stdout",
     "output_type": "stream",
     "text": [
      "Python is awesome\n"
     ]
    }
   ],
   "source": [
    "x = \"awesome\"\n",
    "\n",
    "def myfunc():\n",
    "  print(\"Python is \" + x)\n",
    "\n",
    "myfunc()"
   ]
  },
  {
   "cell_type": "code",
   "execution_count": 85,
   "id": "8061e076-3923-441e-9f5c-e7905c54ceab",
   "metadata": {},
   "outputs": [
    {
     "name": "stdout",
     "output_type": "stream",
     "text": [
      "ram in ramyana\n"
     ]
    }
   ],
   "source": [
    "y=\"ramyana\"\n",
    "\n",
    "def myfunc():\n",
    "    print(\"ram in \" + y)\n",
    "\n",
    "myfunc()"
   ]
  },
  {
   "cell_type": "code",
   "execution_count": 86,
   "id": "e1bb366d-50b9-47f9-8294-f1e881d6f0e0",
   "metadata": {},
   "outputs": [],
   "source": [
    "#Create a variable inside a function, with the same name as the global variable"
   ]
  },
  {
   "cell_type": "code",
   "execution_count": 87,
   "id": "f08e74ad-c585-49ea-a772-1d614f521a19",
   "metadata": {},
   "outputs": [
    {
     "name": "stdout",
     "output_type": "stream",
     "text": [
      "Python is fantastic\n",
      "Python is awesome\n"
     ]
    }
   ],
   "source": [
    "x = \"awesome\"\n",
    "\n",
    "def myfunc():\n",
    "  x = \"fantastic\"\n",
    "  print(\"Python is \" + x)\n",
    "\n",
    "myfunc()\n",
    "\n",
    "print(\"Python is \" + x)"
   ]
  },
  {
   "cell_type": "code",
   "execution_count": 90,
   "id": "55959fe7-6217-4f09-8efb-2ce7e7224457",
   "metadata": {},
   "outputs": [
    {
     "name": "stdout",
     "output_type": "stream",
     "text": [
      "The examination will start from : 11 / 12 / 2014\n"
     ]
    }
   ],
   "source": [
    "# Define a tuple called 'exam_st_date' containing the exam start date in the format (day, month, year)\n",
    "exam_st_date = (11, 12, 2014)\n",
    "\n",
    "# Print the exam start date using string formatting\n",
    "# The '%i' placeholders are filled with the values from the 'exam_st_date' tuple\n",
    "print(\"The examination will start from : %i / %i / %i\" % exam_st_date)"
   ]
  },
  {
   "cell_type": "code",
   "execution_count": 91,
   "id": "79b4e1ae-5a82-4296-ab02-0a7024b66732",
   "metadata": {},
   "outputs": [
    {
     "name": "stdout",
     "output_type": "stream",
     "text": [
      "9\n"
     ]
    }
   ],
   "source": [
    "# Import the 'date' class from the 'datetime' module\n",
    "from datetime import date\n",
    "\n",
    "# Define a start date as July 2, 2014\n",
    "f_date = date(2014, 7, 2)\n",
    "\n",
    "# Define an end date as July 11, 2014\n",
    "l_date = date(2014, 7, 11)\n",
    "\n",
    "# Calculate the difference between the end date and start date\n",
    "delta = l_date - f_date\n",
    "\n",
    "# Print the number of days in the time difference\n",
    "print(delta.days)"
   ]
  },
  {
   "cell_type": "code",
   "execution_count": 92,
   "id": "266e0b96-1a33-4d15-99c3-62fd78edbefd",
   "metadata": {},
   "outputs": [
    {
     "name": "stdout",
     "output_type": "stream",
     "text": [
      "The volume of the sphere is:  904.7786842338603\n"
     ]
    }
   ],
   "source": [
    "# Define the value of pi\n",
    "pi = 3.1415926535897931\n",
    "\n",
    "# Define the radius of the sphere\n",
    "r = 6.0\n",
    "\n",
    "# Calculate the volume of the sphere using the formula\n",
    "V = 4.0/3.0 * pi * r**3\n",
    "\n",
    "# Print the calculated volume of the sphere\n",
    "print('The volume of the sphere is: ', V)\n"
   ]
  },
  {
   "cell_type": "code",
   "execution_count": 95,
   "id": "f6db75cc-8bdf-4104-96f6-7195696ccf18",
   "metadata": {},
   "outputs": [
    {
     "name": "stdin",
     "output_type": "stream",
     "text": [
      "Enter a number:  5\n"
     ]
    },
    {
     "name": "stdout",
     "output_type": "stream",
     "text": [
      "This is an odd number.\n"
     ]
    }
   ],
   "source": [
    "# Prompt the user to enter a number and convert the input to an integer\n",
    "num = int(input(\"Enter a number: \"))\n",
    "\n",
    "# Calculate the remainder when the number is divided by 2\n",
    "mod = num % 2\n",
    "\n",
    "# Check if the remainder is greater than 0, indicating an odd number\n",
    "if mod > 0:\n",
    "    # Print a message indicating that the number is odd\n",
    "    print(\"This is an odd number.\")\n",
    "else:\n",
    "    # Print a message indicating that the number is even\n",
    "    print(\"This is an even number.\")"
   ]
  },
  {
   "cell_type": "code",
   "execution_count": 94,
   "id": "cc2f902a-5779-47f7-98b0-0cc739475560",
   "metadata": {},
   "outputs": [
    {
     "data": {
      "text/plain": [
       "3"
      ]
     },
     "execution_count": 94,
     "metadata": {},
     "output_type": "execute_result"
    }
   ],
   "source": [
    "3"
   ]
  },
  {
   "cell_type": "code",
   "execution_count": null,
   "id": "5b361c3e-cb98-43a4-a534-c38dbe764f56",
   "metadata": {},
   "outputs": [],
   "source": []
  }
 ],
 "metadata": {
  "kernelspec": {
   "display_name": "Python 3 (ipykernel)",
   "language": "python",
   "name": "python3"
  },
  "language_info": {
   "codemirror_mode": {
    "name": "ipython",
    "version": 3
   },
   "file_extension": ".py",
   "mimetype": "text/x-python",
   "name": "python",
   "nbconvert_exporter": "python",
   "pygments_lexer": "ipython3",
   "version": "3.12.4"
  }
 },
 "nbformat": 4,
 "nbformat_minor": 5
}
